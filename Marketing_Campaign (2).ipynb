{
 "cells": [
  {
   "cell_type": "markdown",
   "id": "df56c432",
   "metadata": {},
   "source": [
    "# Marketing Promotion Campaign"
   ]
  },
  {
   "cell_type": "code",
   "execution_count": 6,
   "id": "11995c72",
   "metadata": {},
   "outputs": [],
   "source": [
    "import pandas as pd\n",
    "import numpy as np\n",
    "import matplotlib.pyplot as plt\n",
    "import seaborn as sns\n"
   ]
  },
  {
   "cell_type": "code",
   "execution_count": 7,
   "id": "239aedda",
   "metadata": {},
   "outputs": [
    {
     "data": {
      "text/html": [
       "<div>\n",
       "<style scoped>\n",
       "    .dataframe tbody tr th:only-of-type {\n",
       "        vertical-align: middle;\n",
       "    }\n",
       "\n",
       "    .dataframe tbody tr th {\n",
       "        vertical-align: top;\n",
       "    }\n",
       "\n",
       "    .dataframe thead th {\n",
       "        text-align: right;\n",
       "    }\n",
       "</style>\n",
       "<table border=\"1\" class=\"dataframe\">\n",
       "  <thead>\n",
       "    <tr style=\"text-align: right;\">\n",
       "      <th></th>\n",
       "      <th>recency</th>\n",
       "      <th>history</th>\n",
       "      <th>used_discount</th>\n",
       "      <th>used_bogo</th>\n",
       "      <th>zip_code</th>\n",
       "      <th>is_referral</th>\n",
       "      <th>channel</th>\n",
       "      <th>offer</th>\n",
       "      <th>conversion</th>\n",
       "    </tr>\n",
       "  </thead>\n",
       "  <tbody>\n",
       "    <tr>\n",
       "      <th>0</th>\n",
       "      <td>10</td>\n",
       "      <td>142.44</td>\n",
       "      <td>1</td>\n",
       "      <td>0</td>\n",
       "      <td>Surburban</td>\n",
       "      <td>0</td>\n",
       "      <td>Phone</td>\n",
       "      <td>Buy One Get One</td>\n",
       "      <td>0</td>\n",
       "    </tr>\n",
       "    <tr>\n",
       "      <th>1</th>\n",
       "      <td>6</td>\n",
       "      <td>329.08</td>\n",
       "      <td>1</td>\n",
       "      <td>1</td>\n",
       "      <td>Rural</td>\n",
       "      <td>1</td>\n",
       "      <td>Web</td>\n",
       "      <td>No Offer</td>\n",
       "      <td>0</td>\n",
       "    </tr>\n",
       "    <tr>\n",
       "      <th>2</th>\n",
       "      <td>7</td>\n",
       "      <td>180.65</td>\n",
       "      <td>0</td>\n",
       "      <td>1</td>\n",
       "      <td>Surburban</td>\n",
       "      <td>1</td>\n",
       "      <td>Web</td>\n",
       "      <td>Buy One Get One</td>\n",
       "      <td>0</td>\n",
       "    </tr>\n",
       "    <tr>\n",
       "      <th>3</th>\n",
       "      <td>9</td>\n",
       "      <td>675.83</td>\n",
       "      <td>1</td>\n",
       "      <td>0</td>\n",
       "      <td>Rural</td>\n",
       "      <td>1</td>\n",
       "      <td>Web</td>\n",
       "      <td>Discount</td>\n",
       "      <td>0</td>\n",
       "    </tr>\n",
       "    <tr>\n",
       "      <th>4</th>\n",
       "      <td>2</td>\n",
       "      <td>45.34</td>\n",
       "      <td>1</td>\n",
       "      <td>0</td>\n",
       "      <td>Urban</td>\n",
       "      <td>0</td>\n",
       "      <td>Web</td>\n",
       "      <td>Buy One Get One</td>\n",
       "      <td>0</td>\n",
       "    </tr>\n",
       "    <tr>\n",
       "      <th>...</th>\n",
       "      <td>...</td>\n",
       "      <td>...</td>\n",
       "      <td>...</td>\n",
       "      <td>...</td>\n",
       "      <td>...</td>\n",
       "      <td>...</td>\n",
       "      <td>...</td>\n",
       "      <td>...</td>\n",
       "      <td>...</td>\n",
       "    </tr>\n",
       "    <tr>\n",
       "      <th>63995</th>\n",
       "      <td>10</td>\n",
       "      <td>105.54</td>\n",
       "      <td>1</td>\n",
       "      <td>0</td>\n",
       "      <td>Urban</td>\n",
       "      <td>0</td>\n",
       "      <td>Web</td>\n",
       "      <td>Discount</td>\n",
       "      <td>0</td>\n",
       "    </tr>\n",
       "    <tr>\n",
       "      <th>63996</th>\n",
       "      <td>5</td>\n",
       "      <td>38.91</td>\n",
       "      <td>0</td>\n",
       "      <td>1</td>\n",
       "      <td>Urban</td>\n",
       "      <td>1</td>\n",
       "      <td>Phone</td>\n",
       "      <td>Discount</td>\n",
       "      <td>0</td>\n",
       "    </tr>\n",
       "    <tr>\n",
       "      <th>63997</th>\n",
       "      <td>6</td>\n",
       "      <td>29.99</td>\n",
       "      <td>1</td>\n",
       "      <td>0</td>\n",
       "      <td>Urban</td>\n",
       "      <td>1</td>\n",
       "      <td>Phone</td>\n",
       "      <td>Discount</td>\n",
       "      <td>0</td>\n",
       "    </tr>\n",
       "    <tr>\n",
       "      <th>63998</th>\n",
       "      <td>1</td>\n",
       "      <td>552.94</td>\n",
       "      <td>1</td>\n",
       "      <td>0</td>\n",
       "      <td>Surburban</td>\n",
       "      <td>1</td>\n",
       "      <td>Multichannel</td>\n",
       "      <td>Buy One Get One</td>\n",
       "      <td>0</td>\n",
       "    </tr>\n",
       "    <tr>\n",
       "      <th>63999</th>\n",
       "      <td>1</td>\n",
       "      <td>472.82</td>\n",
       "      <td>0</td>\n",
       "      <td>1</td>\n",
       "      <td>Surburban</td>\n",
       "      <td>0</td>\n",
       "      <td>Web</td>\n",
       "      <td>Discount</td>\n",
       "      <td>0</td>\n",
       "    </tr>\n",
       "  </tbody>\n",
       "</table>\n",
       "<p>64000 rows × 9 columns</p>\n",
       "</div>"
      ],
      "text/plain": [
       "       recency  history  used_discount  used_bogo   zip_code  is_referral  \\\n",
       "0           10   142.44              1          0  Surburban            0   \n",
       "1            6   329.08              1          1      Rural            1   \n",
       "2            7   180.65              0          1  Surburban            1   \n",
       "3            9   675.83              1          0      Rural            1   \n",
       "4            2    45.34              1          0      Urban            0   \n",
       "...        ...      ...            ...        ...        ...          ...   \n",
       "63995       10   105.54              1          0      Urban            0   \n",
       "63996        5    38.91              0          1      Urban            1   \n",
       "63997        6    29.99              1          0      Urban            1   \n",
       "63998        1   552.94              1          0  Surburban            1   \n",
       "63999        1   472.82              0          1  Surburban            0   \n",
       "\n",
       "            channel            offer  conversion  \n",
       "0             Phone  Buy One Get One           0  \n",
       "1               Web         No Offer           0  \n",
       "2               Web  Buy One Get One           0  \n",
       "3               Web         Discount           0  \n",
       "4               Web  Buy One Get One           0  \n",
       "...             ...              ...         ...  \n",
       "63995           Web         Discount           0  \n",
       "63996         Phone         Discount           0  \n",
       "63997         Phone         Discount           0  \n",
       "63998  Multichannel  Buy One Get One           0  \n",
       "63999           Web         Discount           0  \n",
       "\n",
       "[64000 rows x 9 columns]"
      ]
     },
     "execution_count": 7,
     "metadata": {},
     "output_type": "execute_result"
    }
   ],
   "source": [
    "data = pd.read_csv(\"data/marketing.csv\")\n",
    "data"
   ]
  },
  {
   "cell_type": "markdown",
   "id": "8fd8e614",
   "metadata": {},
   "source": [
    "<font size=3> \n",
    "\n",
    "**Note on variables:**\n",
    "\n",
    "- **recency**:  Months since last purchase \n",
    "- **history**:  $ value of the historical purchases\n",
    "- **used_discount**:  If the customer used a discount before\n",
    "- **used_bogo**:  If the customer used a buy one get one before\n",
    "- **zip_code**:  Class of the zip code as Suburban/Urban/Rural\n",
    "- **is_referral**:  If the customer was acquired from referral channel\n",
    "- **channel**:  Channels that the customer using Phone/Web/Multichannel\n",
    "- **offer**:  The offers sent to the customers, Discount/But One Get One/No Offer\n",
    "- **conversion**:  Customer conversion (buy or not , set as  and 0)\n"
   ]
  },
  {
   "cell_type": "markdown",
   "id": "33f01e07",
   "metadata": {},
   "source": [
    "<font size=3 color=blue> Check for missing values "
   ]
  },
  {
   "cell_type": "code",
   "execution_count": 9,
   "id": "5ce8ae53",
   "metadata": {},
   "outputs": [
    {
     "name": "stdout",
     "output_type": "stream",
     "text": [
      "recency          0\n",
      "history          0\n",
      "used_discount    0\n",
      "used_bogo        0\n",
      "zip_code         0\n",
      "is_referral      0\n",
      "channel          0\n",
      "offer            0\n",
      "conversion       0\n",
      "dtype: int64\n"
     ]
    }
   ],
   "source": [
    "nan = data.isna().sum()\n",
    "print(nan)"
   ]
  },
  {
   "cell_type": "markdown",
   "id": "ceae7acf",
   "metadata": {},
   "source": [
    "<font size=3 color=blue> Check on duplicate"
   ]
  },
  {
   "cell_type": "code",
   "execution_count": null,
   "id": "ba4acd0e",
   "metadata": {
    "scrolled": true
   },
   "outputs": [],
   "source": [
    "# duplicate_count = data.duplicated().sum()\n",
    "# print(duplicate_count)\n",
    "\n",
    "# duplicate_rows = data[data.duplicated()]"
   ]
  },
  {
   "cell_type": "code",
   "execution_count": 10,
   "id": "e6699911",
   "metadata": {
    "scrolled": true
   },
   "outputs": [
    {
     "data": {
      "text/html": [
       "<div>\n",
       "<style scoped>\n",
       "    .dataframe tbody tr th:only-of-type {\n",
       "        vertical-align: middle;\n",
       "    }\n",
       "\n",
       "    .dataframe tbody tr th {\n",
       "        vertical-align: top;\n",
       "    }\n",
       "\n",
       "    .dataframe thead th {\n",
       "        text-align: right;\n",
       "    }\n",
       "</style>\n",
       "<table border=\"1\" class=\"dataframe\">\n",
       "  <thead>\n",
       "    <tr style=\"text-align: right;\">\n",
       "      <th></th>\n",
       "      <th>recency</th>\n",
       "      <th>history</th>\n",
       "      <th>used_discount</th>\n",
       "      <th>used_bogo</th>\n",
       "      <th>zip_code</th>\n",
       "      <th>is_referral</th>\n",
       "      <th>channel</th>\n",
       "      <th>offer</th>\n",
       "      <th>conversion</th>\n",
       "    </tr>\n",
       "  </thead>\n",
       "  <tbody>\n",
       "    <tr>\n",
       "      <th>0</th>\n",
       "      <td>10</td>\n",
       "      <td>142.44</td>\n",
       "      <td>1</td>\n",
       "      <td>0</td>\n",
       "      <td>Surburban</td>\n",
       "      <td>0</td>\n",
       "      <td>Phone</td>\n",
       "      <td>Buy One Get One</td>\n",
       "      <td>0</td>\n",
       "    </tr>\n",
       "    <tr>\n",
       "      <th>1</th>\n",
       "      <td>6</td>\n",
       "      <td>329.08</td>\n",
       "      <td>1</td>\n",
       "      <td>1</td>\n",
       "      <td>Rural</td>\n",
       "      <td>1</td>\n",
       "      <td>Web</td>\n",
       "      <td>No Offer</td>\n",
       "      <td>0</td>\n",
       "    </tr>\n",
       "    <tr>\n",
       "      <th>2</th>\n",
       "      <td>7</td>\n",
       "      <td>180.65</td>\n",
       "      <td>0</td>\n",
       "      <td>1</td>\n",
       "      <td>Surburban</td>\n",
       "      <td>1</td>\n",
       "      <td>Web</td>\n",
       "      <td>Buy One Get One</td>\n",
       "      <td>0</td>\n",
       "    </tr>\n",
       "    <tr>\n",
       "      <th>3</th>\n",
       "      <td>9</td>\n",
       "      <td>675.83</td>\n",
       "      <td>1</td>\n",
       "      <td>0</td>\n",
       "      <td>Rural</td>\n",
       "      <td>1</td>\n",
       "      <td>Web</td>\n",
       "      <td>Discount</td>\n",
       "      <td>0</td>\n",
       "    </tr>\n",
       "    <tr>\n",
       "      <th>4</th>\n",
       "      <td>2</td>\n",
       "      <td>45.34</td>\n",
       "      <td>1</td>\n",
       "      <td>0</td>\n",
       "      <td>Urban</td>\n",
       "      <td>0</td>\n",
       "      <td>Web</td>\n",
       "      <td>Buy One Get One</td>\n",
       "      <td>0</td>\n",
       "    </tr>\n",
       "    <tr>\n",
       "      <th>...</th>\n",
       "      <td>...</td>\n",
       "      <td>...</td>\n",
       "      <td>...</td>\n",
       "      <td>...</td>\n",
       "      <td>...</td>\n",
       "      <td>...</td>\n",
       "      <td>...</td>\n",
       "      <td>...</td>\n",
       "      <td>...</td>\n",
       "    </tr>\n",
       "    <tr>\n",
       "      <th>63994</th>\n",
       "      <td>7</td>\n",
       "      <td>86.46</td>\n",
       "      <td>0</td>\n",
       "      <td>1</td>\n",
       "      <td>Urban</td>\n",
       "      <td>0</td>\n",
       "      <td>Web</td>\n",
       "      <td>Discount</td>\n",
       "      <td>0</td>\n",
       "    </tr>\n",
       "    <tr>\n",
       "      <th>63995</th>\n",
       "      <td>10</td>\n",
       "      <td>105.54</td>\n",
       "      <td>1</td>\n",
       "      <td>0</td>\n",
       "      <td>Urban</td>\n",
       "      <td>0</td>\n",
       "      <td>Web</td>\n",
       "      <td>Discount</td>\n",
       "      <td>0</td>\n",
       "    </tr>\n",
       "    <tr>\n",
       "      <th>63996</th>\n",
       "      <td>5</td>\n",
       "      <td>38.91</td>\n",
       "      <td>0</td>\n",
       "      <td>1</td>\n",
       "      <td>Urban</td>\n",
       "      <td>1</td>\n",
       "      <td>Phone</td>\n",
       "      <td>Discount</td>\n",
       "      <td>0</td>\n",
       "    </tr>\n",
       "    <tr>\n",
       "      <th>63998</th>\n",
       "      <td>1</td>\n",
       "      <td>552.94</td>\n",
       "      <td>1</td>\n",
       "      <td>0</td>\n",
       "      <td>Surburban</td>\n",
       "      <td>1</td>\n",
       "      <td>Multichannel</td>\n",
       "      <td>Buy One Get One</td>\n",
       "      <td>0</td>\n",
       "    </tr>\n",
       "    <tr>\n",
       "      <th>63999</th>\n",
       "      <td>1</td>\n",
       "      <td>472.82</td>\n",
       "      <td>0</td>\n",
       "      <td>1</td>\n",
       "      <td>Surburban</td>\n",
       "      <td>0</td>\n",
       "      <td>Web</td>\n",
       "      <td>Discount</td>\n",
       "      <td>0</td>\n",
       "    </tr>\n",
       "  </tbody>\n",
       "</table>\n",
       "<p>57397 rows × 9 columns</p>\n",
       "</div>"
      ],
      "text/plain": [
       "       recency  history  used_discount  used_bogo   zip_code  is_referral  \\\n",
       "0           10   142.44              1          0  Surburban            0   \n",
       "1            6   329.08              1          1      Rural            1   \n",
       "2            7   180.65              0          1  Surburban            1   \n",
       "3            9   675.83              1          0      Rural            1   \n",
       "4            2    45.34              1          0      Urban            0   \n",
       "...        ...      ...            ...        ...        ...          ...   \n",
       "63994        7    86.46              0          1      Urban            0   \n",
       "63995       10   105.54              1          0      Urban            0   \n",
       "63996        5    38.91              0          1      Urban            1   \n",
       "63998        1   552.94              1          0  Surburban            1   \n",
       "63999        1   472.82              0          1  Surburban            0   \n",
       "\n",
       "            channel            offer  conversion  \n",
       "0             Phone  Buy One Get One           0  \n",
       "1               Web         No Offer           0  \n",
       "2               Web  Buy One Get One           0  \n",
       "3               Web         Discount           0  \n",
       "4               Web  Buy One Get One           0  \n",
       "...             ...              ...         ...  \n",
       "63994           Web         Discount           0  \n",
       "63995           Web         Discount           0  \n",
       "63996         Phone         Discount           0  \n",
       "63998  Multichannel  Buy One Get One           0  \n",
       "63999           Web         Discount           0  \n",
       "\n",
       "[57397 rows x 9 columns]"
      ]
     },
     "execution_count": 10,
     "metadata": {},
     "output_type": "execute_result"
    }
   ],
   "source": [
    "data = data.drop_duplicates()\n",
    "data"
   ]
  },
  {
   "cell_type": "code",
   "execution_count": null,
   "id": "88c8b57d",
   "metadata": {},
   "outputs": [],
   "source": [
    "#data.describe()"
   ]
  },
  {
   "cell_type": "code",
   "execution_count": null,
   "id": "5eec0b06",
   "metadata": {},
   "outputs": [],
   "source": []
  },
  {
   "cell_type": "markdown",
   "id": "cc630fef",
   "metadata": {},
   "source": [
    "<font size=4 color= blue>  Exploratory Data Analysis (EDA)"
   ]
  },
  {
   "cell_type": "code",
   "execution_count": 11,
   "id": "3f4c4663",
   "metadata": {},
   "outputs": [
    {
     "name": "stdout",
     "output_type": "stream",
     "text": [
      "<class 'pandas.core.frame.DataFrame'>\n",
      "Index: 57397 entries, 0 to 63999\n",
      "Data columns (total 9 columns):\n",
      " #   Column         Non-Null Count  Dtype  \n",
      "---  ------         --------------  -----  \n",
      " 0   recency        57397 non-null  int64  \n",
      " 1   history        57397 non-null  float64\n",
      " 2   used_discount  57397 non-null  int64  \n",
      " 3   used_bogo      57397 non-null  int64  \n",
      " 4   zip_code       57397 non-null  object \n",
      " 5   is_referral    57397 non-null  int64  \n",
      " 6   channel        57397 non-null  object \n",
      " 7   offer          57397 non-null  object \n",
      " 8   conversion     57397 non-null  int64  \n",
      "dtypes: float64(1), int64(5), object(3)\n",
      "memory usage: 4.4+ MB\n"
     ]
    }
   ],
   "source": [
    "data.info()"
   ]
  },
  {
   "cell_type": "markdown",
   "id": "8e77370a",
   "metadata": {},
   "source": [
    "#### Numerical Variables:"
   ]
  },
  {
   "cell_type": "code",
   "execution_count": 12,
   "id": "65378ba7",
   "metadata": {},
   "outputs": [
    {
     "name": "stdout",
     "output_type": "stream",
     "text": [
      "used_discount\n",
      "1    31932\n",
      "0    25465\n",
      "Name: count, dtype: int64\n",
      "used_bogo\n",
      "1    31913\n",
      "0    25484\n",
      "Name: count, dtype: int64\n",
      "is_referral\n",
      "1    28827\n",
      "0    28570\n",
      "Name: count, dtype: int64\n",
      "conversion\n",
      "0    48436\n",
      "1     8961\n",
      "Name: count, dtype: int64\n"
     ]
    }
   ],
   "source": [
    "used_discount_counts = data['used_discount'].value_counts()\n",
    "used_bogo_counts = data['used_bogo'].value_counts()\n",
    "is_referral_counts = data['is_referral'].value_counts()\n",
    "conversion_counts = data['conversion'].value_counts()\n",
    "\n",
    "print(used_discount_counts)\n",
    "print(used_bogo_counts)\n",
    "print(is_referral_counts)\n",
    "print(conversion_counts)\n"
   ]
  },
  {
   "cell_type": "code",
   "execution_count": 13,
   "id": "f1efeaa0",
   "metadata": {},
   "outputs": [
    {
     "data": {
      "image/png": "[encoded data removed]",
      "text/plain": [
       "<Figure size 1400x400 with 4 Axes>"
      ]
     },
     "metadata": {},
     "output_type": "display_data"
    }
   ],
   "source": [
    "# Visualization\n",
    "columns = ['used_discount', 'used_bogo', 'is_referral', 'conversion']\n",
    "counts = [used_discount_counts, used_bogo_counts, is_referral_counts, conversion_counts]\n",
    "\n",
    "fig, axes = plt.subplots(nrows=1, ncols=4, figsize=(14, 4))\n",
    "fig.subplots_adjust(hspace=1.5, wspace=0.8)  \n",
    "\n",
    "for i, (var, count) in enumerate(zip(columns, counts)):\n",
    "    ax = axes[i] \n",
    "    count.plot(kind='bar', ax=ax, color='blue', edgecolor='black')\n",
    "    ax.set_title('{}'.format(var))\n",
    "    ax.set_xlabel(var)\n",
    "    ax.tick_params(axis='x', rotation=0)\n",
    "\n",
    "plt.grid(axis='y', linestyle='-', linewidth=0.5, alpha=0.5)\n",
    "plt.tight_layout()\n",
    "plt.show()"
   ]
  },
  {
   "cell_type": "markdown",
   "id": "fd5e48a2",
   "metadata": {},
   "source": [
    "#### Categorical Variables"
   ]
  },
  {
   "cell_type": "code",
   "execution_count": 14,
   "id": "3461bae9",
   "metadata": {},
   "outputs": [
    {
     "name": "stdout",
     "output_type": "stream",
     "text": [
      "zip_code\n",
      "Surburban    25632\n",
      "Urban        22976\n",
      "Rural         8789\n",
      "Name: count, dtype: int64\n",
      "offer\n",
      "Discount           19166\n",
      "Buy One Get One    19159\n",
      "No Offer           19072\n",
      "Name: count, dtype: int64\n",
      "channel\n",
      "Web             24887\n",
      "Phone           24750\n",
      "Multichannel     7760\n",
      "Name: count, dtype: int64\n"
     ]
    }
   ],
   "source": [
    "zip_code_counts = data['zip_code'].value_counts()\n",
    "offer_counts = data['offer'].value_counts()\n",
    "channel_counts = data['channel'].value_counts()\n",
    "\n",
    "print(zip_code_counts)\n",
    "print(offer_counts )\n",
    "print(channel_counts)\n"
   ]
  },
  {
   "cell_type": "code",
   "execution_count": 20,
   "id": "14e96856",
   "metadata": {},
   "outputs": [
    {
     "data": {
      "image/png": "[encoded data removed]",
      "text/plain": [
       "<Figure size 1400x400 with 3 Axes>"
      ]
     },
     "metadata": {},
     "output_type": "display_data"
    }
   ],
   "source": [
    "# Visualization\n",
    "columns = ['zip_code', 'offer', 'channel']\n",
    "counts = [zip_code_counts, offer_counts, channel_counts]\n",
    "\n",
    "fig, axes = plt.subplots(nrows=1, ncols=3, figsize=(14, 4))\n",
    "for i, (variable, count) in enumerate(zip(columns, counts)):\n",
    "    ax = axes[i]  \n",
    "    count.plot(kind='bar', ax=ax, color='skyblue', edgecolor='black')\n",
    "    ax.set_title('{}'.format(variable))\n",
    "    ax.set_xlabel(variable)\n",
    "    ax.tick_params(axis='x', rotation=45)\n",
    "    \n",
    "#plt.grid(axis='y', linestyle='-', linewidth=0.5, alpha=0.5)\n",
    "plt.tight_layout()\n",
    "plt.show()\n"
   ]
  },
  {
   "cell_type": "code",
   "execution_count": null,
   "id": "17e7c56f",
   "metadata": {},
   "outputs": [],
   "source": []
  },
  {
   "cell_type": "code",
   "execution_count": null,
   "id": "7df14d03",
   "metadata": {},
   "outputs": [],
   "source": []
  },
  {
   "cell_type": "markdown",
   "id": "ee6dba16",
   "metadata": {},
   "source": [
    "#####  A/B testing, also known as split testing, is a method to compare two versions (A and B) of a variable to determine which one performs better. In the context of your DataFrame, you might want to perform A/B testing on different groups defined by a categorical variable (e.g., 'channel' or 'offer')."
   ]
  },
  {
   "cell_type": "markdown",
   "id": "37a254e3",
   "metadata": {},
   "source": [
    "#### Note:  A/B testing involves comparing two or more groups to determine if there are statistically significant differences between them"
   ]
  },
  {
   "cell_type": "code",
   "execution_count": null,
   "id": "911a029f",
   "metadata": {},
   "outputs": [],
   "source": []
  },
  {
   "cell_type": "markdown",
   "id": "585614c4",
   "metadata": {},
   "source": [
    "<font size=5 color= blue> A/B Testing "
   ]
  },
  {
   "cell_type": "markdown",
   "id": "0840daee",
   "metadata": {},
   "source": [
    "<font size=3> \n",
    "\n",
    "**Define Hypotheses:**\n",
    "\n",
    "- **Null Hypothesis (H0)**: There is no difference in conversion rates between customers offered a discount and those offered a BOGO deal.\n",
    "- **Alternative Hypothesis (H1)**: Customers offered a discount have higher conversion rates compared to those offered a BOGO deal.\n",
    "        \n",
    "        \n",
    "**Select Test and Control Groups:**\n",
    "\n",
    "- Divide your dataset into two groups: one group will receive the discount offer (A) and the other group will receive the BOGO offer (B).        \n",
    "        \n",
    "- Assign the discount offer to one group (Group A) and the BOGO offer to the other group (Group B).  \n",
    "\n",
    "\n"
   ]
  },
  {
   "cell_type": "code",
   "execution_count": null,
   "id": "67ecb0bf",
   "metadata": {},
   "outputs": [],
   "source": []
  },
  {
   "cell_type": "markdown",
   "id": "ca3f2444",
   "metadata": {},
   "source": [
    "<font size=3 color= red> Compare conversion rates across group (offer)"
   ]
  },
  {
   "cell_type": "code",
   "execution_count": null,
   "id": "b6d1f05f",
   "metadata": {},
   "outputs": [],
   "source": [
    "#To test whether offering a discount (A) leads to higher conversion rates compared to offering a Buy One Get One (BOGO) deal (B)"
   ]
  },
  {
   "cell_type": "code",
   "execution_count": 19,
   "id": "f0b6083b",
   "metadata": {},
   "outputs": [
    {
     "name": "stdout",
     "output_type": "stream",
     "text": [
      "Conversion rate for Discount offer (Group A): 0.19320672023374727\n",
      "Conversion rate for BOGO offer (Group B): 0.16018581345581712\n",
      "Conversion rate for No offer (Group C): 0.11477558724832215\n"
     ]
    }
   ],
   "source": [
    "\n",
    "from scipy.stats import chi2_contingency\n",
    "\n",
    "#Separates the dataset into two groups based on the offer type: Group A (Discount offer) and Group B (BOGO offer).\n",
    "group_a = data[data['offer'] == 'Discount']\n",
    "group_b = data[data['offer'] == 'Buy One Get One']\n",
    "group_c = data[data['offer'] == 'No Offer']               #Try add 'No Offer'\n",
    "\n",
    "# Calculate conversion rates for each group\n",
    "conversion_rate_a = group_a['conversion'].mean()\n",
    "conversion_rate_b = group_b['conversion'].mean()\n",
    "conversion_rate_c = group_c['conversion'].mean()\n",
    "\n",
    "print(\"Conversion rate for Discount offer (Group A):\", conversion_rate_a)\n",
    "print(\"Conversion rate for BOGO offer (Group B):\", conversion_rate_b)\n",
    "print(\"Conversion rate for No offer (Group C):\", conversion_rate_c)\n"
   ]
  },
  {
   "cell_type": "code",
   "execution_count": null,
   "id": "a5a65415",
   "metadata": {},
   "outputs": [],
   "source": []
  },
  {
   "cell_type": "code",
   "execution_count": 17,
   "id": "b34150e4",
   "metadata": {},
   "outputs": [
    {
     "name": "stdout",
     "output_type": "stream",
     "text": [
      "\n",
      "Results of chi-squared test:\n",
      "Chi-squared statistic: 449.94011780493054\n",
      "p-value: 1.9803630984536353e-98\n",
      "\n",
      "Reject the null hypothesis: There is a significant difference in conversion rates between the two groups.\n"
     ]
    }
   ],
   "source": [
    "# Perform a chi-squared test to compare conversion rates between the two groups\n",
    "\n",
    "contingency_table = pd.crosstab(data['offer'], data['conversion'])\n",
    "chi2, p_value, _, _ = chi2_contingency(contingency_table)\n",
    "\n",
    "# Print the results of the chi-squared test\n",
    "print(\"\\nResults of chi-squared test:\")\n",
    "print(\"Chi-squared statistic:\", chi2)\n",
    "print(\"p-value:\", p_value)\n",
    "\n",
    "# Interpret the results\n",
    "alpha = 0.05\n",
    "if p_value < alpha:\n",
    "    print(\"\\nReject the null hypothesis: There is a significant difference in conversion rates between the two groups.\")\n",
    "else:\n",
    "    print(\"\\nFail to reject the null hypothesis: There is no significant difference in conversion rates between the two groups.\")"
   ]
  },
  {
   "cell_type": "code",
   "execution_count": null,
   "id": "7e88604b",
   "metadata": {},
   "outputs": [],
   "source": [
    "#Perform a one-way ANOVA test to compare conversion rates across Group A (Discount offer) and Group B (BOGO offer)\n",
    "\n",
    "from scipy.stats import f_oneway\n",
    "\n",
    "# Separates the dataset into two groups based on the offer type\n",
    "group_a = data[data['offer'] == 'Discount']['conversion']\n",
    "group_b = data[data['offer'] == 'Buy One Get One']['conversion']\n",
    "#group_c = data[data['offer'] == 'Buy One Get One']['conversion']\n",
    "\n",
    "# Perform one-way ANOVA\n",
    "f_statistic, p_value = f_oneway(group_a, group_b)\n",
    "\n",
    "# Print the results of the ANOVA test\n",
    "print(\"Results of one-way ANOVA test:\")\n",
    "print(\"F-statistic:\", f_statistic)\n",
    "print(\"p-value:\", p_value)\n",
    "\n",
    "# Interpret the results\n",
    "alpha = 0.05\n",
    "if p_value < alpha:\n",
    "    print(\"\\nReject the null hypothesis: There is a significant difference in conversion rates between Group A and Group B.\")\n",
    "else:\n",
    "    print(\"\\nFail to reject the null hypothesis: There is no significant difference in conversion rates between Group A and Group B.\")"
   ]
  },
  {
   "cell_type": "code",
   "execution_count": 18,
   "id": "1fbfdde9",
   "metadata": {},
   "outputs": [
    {
     "name": "stdout",
     "output_type": "stream",
     "text": [
      "[19.320672023374726, 16.018581345581712]\n"
     ]
    },
    {
     "data": {
      "image/png": "[encoded data removed]",
      "text/plain": [
       "<Figure size 600x400 with 1 Axes>"
      ]
     },
     "metadata": {},
     "output_type": "display_data"
    }
   ],
   "source": [
    "# Bar plot\n",
    "groups = ['Discount', 'BOGO']\n",
    "conversion_rates = [conversion_rate_a * 100 , conversion_rate_b * 100 ]     # Convert conversion rates to percentage\n",
    "\n",
    "print(conversion_rates)\n",
    "\n",
    "\n",
    "# Create the bar plot\n",
    "plt.figure(figsize=(6, 4))\n",
    "plt.bar(groups, conversion_rates, color=['blue', 'green'])\n",
    "plt.title('Conversion Rates by Offer Type')\n",
    "plt.xlabel('Offer Type')\n",
    "plt.ylabel('Conversion Rate (%)')  \n",
    "plt.ylim(0, 30)  \n",
    "plt.grid(axis='y', linestyle='--', alpha=0.4)\n",
    "# Add text labels for each bar\n",
    "for i in range(len(groups)):\n",
    "    plt.text(i, conversion_rates[i] + 0.5, f'{conversion_rates[i]:.2f}%', ha='center')\n",
    "\n",
    "plt.show()"
   ]
  },
  {
   "cell_type": "code",
   "execution_count": null,
   "id": "97434edf",
   "metadata": {},
   "outputs": [],
   "source": []
  },
  {
   "cell_type": "markdown",
   "id": "5e10046d",
   "metadata": {},
   "source": [
    "<font size=3 color= red> Compare conversion rates across groups (offer and channel)"
   ]
  },
  {
   "cell_type": "code",
   "execution_count": 14,
   "id": "d1033b56",
   "metadata": {},
   "outputs": [
    {
     "name": "stdout",
     "output_type": "stream",
     "text": [
      "Conversion rate for Discount offer received via Web: 0.2061487130600572\n",
      "Conversion rate for Discount offer received via Phone: 0.17421007685738685\n",
      "Conversion rate for BOGO offer received via Web: 0.17445671967949497\n",
      "Conversion rate for BOGO offer received via Phone: 0.1413160733549083\n"
     ]
    }
   ],
   "source": [
    "# Separate the dataset into groups based on the combination of offer and channel\n",
    "\n",
    "group_discount_web = data[(data['offer'] == 'Discount') & (data['channel'] == 'Web')]\n",
    "group_discount_phone = data[(data['offer'] == 'Discount') & (data['channel'] == 'Phone')]\n",
    "group_bogo_web = data[(data['offer'] == 'Buy One Get One') & (data['channel'] == 'Web')]\n",
    "group_bogo_phone = data[(data['offer'] == 'Buy One Get One') & (data['channel'] == 'Phone')]\n",
    "\n",
    "# Calculate conversion rates for each group\n",
    "conversion_rate_discount_web = group_discount_web['conversion'].mean()\n",
    "conversion_rate_discount_phone = group_discount_phone['conversion'].mean()\n",
    "conversion_rate_bogo_web = group_bogo_web['conversion'].mean()\n",
    "conversion_rate_bogo_phone = group_bogo_phone['conversion'].mean()\n",
    "\n",
    "# Print the conversion rates for each group\n",
    "print(\"Conversion rate for Discount offer received via Web:\", conversion_rate_discount_web)\n",
    "print(\"Conversion rate for Discount offer received via Phone:\", conversion_rate_discount_phone)\n",
    "print(\"Conversion rate for BOGO offer received via Web:\", conversion_rate_bogo_web)\n",
    "print(\"Conversion rate for BOGO offer received via Phone:\", conversion_rate_bogo_phone)"
   ]
  },
  {
   "cell_type": "code",
   "execution_count": null,
   "id": "bc7cde36",
   "metadata": {},
   "outputs": [],
   "source": []
  },
  {
   "cell_type": "code",
   "execution_count": 30,
   "id": "163144aa",
   "metadata": {},
   "outputs": [
    {
     "name": "stdout",
     "output_type": "stream",
     "text": [
      "\n",
      "Results of one-way ANOVA test:\n",
      "F-statistic: 40.92189859613589\n",
      "p-value: 2.188605973888673e-26\n",
      "\n",
      "Reject the null hypothesis: There is a significant difference in conversion rates between the groups.\n"
     ]
    }
   ],
   "source": [
    "# Perform one-way ANOVA to compare conversion rates across groups\n",
    "f_statistic, p_value = f_oneway(group_discount_web['conversion'], group_discount_phone['conversion'],\n",
    "                                 group_bogo_web['conversion'], group_bogo_phone['conversion'])\n",
    "\n",
    "# Print the results of the ANOVA test\n",
    "print(\"\\nResults of one-way ANOVA test:\")\n",
    "print(\"F-statistic:\", f_statistic)\n",
    "print(\"p-value:\", p_value)\n",
    "\n",
    "# Interpret the results\n",
    "alpha = 0.05\n",
    "if p_value < alpha:\n",
    "    print(\"\\nReject the null hypothesis: There is a significant difference in conversion rates between the groups.\")\n",
    "else:\n",
    "    print(\"\\nFail to reject the null hypothesis: There is no significant difference in conversion rates between the groups.\")"
   ]
  },
  {
   "cell_type": "code",
   "execution_count": null,
   "id": "49bcd67c",
   "metadata": {},
   "outputs": [],
   "source": [
    "#Note from above \n",
    "#1 separates the dataset into four groups based on the combination of offer type (Discount or BOGO) and channel (Web or Phone). \n",
    "#2 calculates the conversion rates for each group.\n",
    "#3 prints the conversion rates for each group.\n",
    "#4 performs a one-way ANOVA test to compare conversion rates across all groups.\n",
    "#5.prints the results of the ANOVA test and interprets the findings based on the significance level (alpha).\n",
    "#This A/B testing approach allows you to assess whether there are significant differences in conversion rates between different combinations of offer type and channel."
   ]
  },
  {
   "cell_type": "code",
   "execution_count": null,
   "id": "bada2574",
   "metadata": {},
   "outputs": [],
   "source": []
  },
  {
   "cell_type": "code",
   "execution_count": 17,
   "id": "550d5dd0",
   "metadata": {},
   "outputs": [
    {
     "name": "stdout",
     "output_type": "stream",
     "text": [
      "\n",
      "Results of one-way ANOVA test:\n",
      "F-statistic: 40.92189859613589\n",
      "p-value: 2.188605973888673e-26\n",
      "\n",
      "Reject the null hypothesis: There is a significant difference in conversion rates between the groups.\n",
      "\n",
      "Tukey's HSD results:\n",
      "                   Multiple Comparison of Means - Tukey HSD, FWER=0.05                   \n",
      "=========================================================================================\n",
      "           group1                    group2        meandiff p-adj   lower   upper  reject\n",
      "-----------------------------------------------------------------------------------------\n",
      "Buy One Get One_Multichannel Buy One Get One_Phone  -0.0343 0.0008 -0.0596 -0.0091   True\n",
      "Buy One Get One_Multichannel   Buy One Get One_Web  -0.0012    1.0 -0.0265  0.0241  False\n",
      "Buy One Get One_Multichannel Discount_Multichannel   0.0358 0.0111  0.0046   0.067   True\n",
      "Buy One Get One_Multichannel        Discount_Phone  -0.0014    1.0 -0.0267  0.0239  False\n",
      "Buy One Get One_Multichannel          Discount_Web   0.0305 0.0055  0.0053  0.0557   True\n",
      "Buy One Get One_Multichannel No Offer_Multichannel   -0.047 0.0001 -0.0781 -0.0159   True\n",
      "Buy One Get One_Multichannel        No Offer_Phone  -0.0793    0.0 -0.1046  -0.054   True\n",
      "Buy One Get One_Multichannel          No Offer_Web  -0.0469    0.0 -0.0722 -0.0217   True\n",
      "       Buy One Get One_Phone   Buy One Get One_Web   0.0331    0.0  0.0157  0.0505   True\n",
      "       Buy One Get One_Phone Discount_Multichannel   0.0702    0.0  0.0449  0.0954   True\n",
      "       Buy One Get One_Phone        Discount_Phone   0.0329    0.0  0.0155  0.0503   True\n",
      "       Buy One Get One_Phone          Discount_Web   0.0648    0.0  0.0475  0.0822   True\n",
      "       Buy One Get One_Phone No Offer_Multichannel  -0.0127 0.8253 -0.0378  0.0125  False\n",
      "       Buy One Get One_Phone        No Offer_Phone   -0.045    0.0 -0.0624 -0.0276   True\n",
      "       Buy One Get One_Phone          No Offer_Web  -0.0126 0.3757   -0.03  0.0048  False\n",
      "         Buy One Get One_Web Discount_Multichannel    0.037 0.0002  0.0117  0.0623   True\n",
      "         Buy One Get One_Web        Discount_Phone  -0.0002    1.0 -0.0177  0.0172  False\n",
      "         Buy One Get One_Web          Discount_Web   0.0317    0.0  0.0143  0.0491   True\n",
      "         Buy One Get One_Web No Offer_Multichannel  -0.0458    0.0  -0.071 -0.0206   True\n",
      "         Buy One Get One_Web        No Offer_Phone  -0.0781    0.0 -0.0956 -0.0606   True\n",
      "         Buy One Get One_Web          No Offer_Web  -0.0457    0.0 -0.0632 -0.0283   True\n",
      "       Discount_Multichannel        Discount_Phone  -0.0373 0.0002 -0.0626  -0.012   True\n",
      "       Discount_Multichannel          Discount_Web  -0.0053 0.9993 -0.0306  0.0199  False\n",
      "       Discount_Multichannel No Offer_Multichannel  -0.0828    0.0  -0.114 -0.0517   True\n",
      "       Discount_Multichannel        No Offer_Phone  -0.1151    0.0 -0.1404 -0.0898   True\n",
      "       Discount_Multichannel          No Offer_Web  -0.0828    0.0  -0.108 -0.0575   True\n",
      "              Discount_Phone          Discount_Web   0.0319    0.0  0.0145  0.0493   True\n",
      "              Discount_Phone No Offer_Multichannel  -0.0456    0.0 -0.0708 -0.0204   True\n",
      "              Discount_Phone        No Offer_Phone  -0.0779    0.0 -0.0954 -0.0604   True\n",
      "              Discount_Phone          No Offer_Web  -0.0455    0.0  -0.063  -0.028   True\n",
      "                Discount_Web No Offer_Multichannel  -0.0775    0.0 -0.1026 -0.0524   True\n",
      "                Discount_Web        No Offer_Phone  -0.1098    0.0 -0.1272 -0.0924   True\n",
      "                Discount_Web          No Offer_Web  -0.0774    0.0 -0.0948 -0.0601   True\n",
      "       No Offer_Multichannel        No Offer_Phone  -0.0323 0.0023 -0.0575 -0.0071   True\n",
      "       No Offer_Multichannel          No Offer_Web   0.0001    1.0 -0.0251  0.0253  False\n",
      "              No Offer_Phone          No Offer_Web   0.0324    0.0  0.0149  0.0498   True\n",
      "-----------------------------------------------------------------------------------------\n"
     ]
    }
   ],
   "source": [
    "#In addition to the one-way ANOVA test, you can perform post-hoc tests to further investigate pairwise differences between groups \n",
    "#if the ANOVA test indicates a significant difference. \n",
    "#One common post-hoc test is the Tukey's Honestly Significant Difference (Tukey HSD) test.\n",
    "\n",
    "\n",
    "from statsmodels.stats.multicomp import pairwise_tukeyhsd\n",
    "\n",
    "# Perform one-way ANOVA to compare conversion rates across groups\n",
    "f_statistic, p_value = f_oneway(group_discount_web['conversion'], group_discount_phone['conversion'],\n",
    "                                 group_bogo_web['conversion'], group_bogo_phone['conversion'])\n",
    "\n",
    "# Print the results of the ANOVA test\n",
    "print(\"\\nResults of one-way ANOVA test:\")\n",
    "print(\"F-statistic:\", f_statistic)\n",
    "print(\"p-value:\", p_value)\n",
    "\n",
    "# Interpret the results\n",
    "alpha = 0.05\n",
    "if p_value < alpha:\n",
    "    print(\"\\nReject the null hypothesis: There is a significant difference in conversion rates between the groups.\")\n",
    "    \n",
    "    # Perform Tukey's HSD test as post-hoc analysis\n",
    "    tukey_results = pairwise_tukeyhsd(data['conversion'], data['offer'] + '_' + data['channel'])\n",
    "    print(\"\\nTukey's HSD results:\")\n",
    "    print(tukey_results)\n",
    "else:\n",
    "    print(\"\\nFail to reject the null hypothesis: There is no significant difference in conversion rates between the groups.\")"
   ]
  },
  {
   "cell_type": "code",
   "execution_count": null,
   "id": "b201a1ed",
   "metadata": {},
   "outputs": [],
   "source": []
  },
  {
   "cell_type": "code",
   "execution_count": 25,
   "id": "2cd2322b",
   "metadata": {},
   "outputs": [
    {
     "data": {
      "image/png": "[encoded data removed]",
      "text/plain": [
       "<Figure size 800x600 with 1 Axes>"
      ]
     },
     "metadata": {},
     "output_type": "display_data"
    }
   ],
   "source": [
    "#Plot \n",
    "\n",
    "groups = ['Discount_Web', 'Discount_Phone', 'BOGO_Web', 'BOGO_Phone']\n",
    "conversion_rates = [conversion_rate_discount_web, conversion_rate_discount_phone,\n",
    "                    conversion_rate_bogo_web, conversion_rate_bogo_phone]\n",
    "\n",
    "\n",
    "plt.figure(figsize=(8, 6))\n",
    "plt.bar(groups, conversion_rates, color=['blue', 'orange', 'green', 'red'])\n",
    "plt.title('Conversion Rates by Offer Type and Channel')\n",
    "plt.xlabel('Offer Type and Channel')\n",
    "plt.ylabel('Conversion Rate')\n",
    "plt.ylim(0, 0.3)  \n",
    "plt.xticks(rotation=45)  \n",
    "#plt.grid(axis='y', linestyle='--', alpha=0.7)\n",
    "\n",
    "# Add text labels for each bar\n",
    "for i in range(len(groups)):\n",
    "    plt.text(i, conversion_rates[i] + 0.01, f'{conversion_rates[i]:.2%}', ha='center')\n",
    "\n",
    "plt.tight_layout()\n",
    "plt.show()\n"
   ]
  },
  {
   "cell_type": "code",
   "execution_count": null,
   "id": "08f72123",
   "metadata": {},
   "outputs": [],
   "source": []
  }
 ],
 "metadata": {
  "kernelspec": {
   "display_name": "Python 3 (ipykernel)",
   "language": "python",
   "name": "python3"
  },
  "language_info": {
   "codemirror_mode": {
    "name": "ipython",
    "version": 3
   },
   "file_extension": ".py",
   "mimetype": "text/x-python",
   "name": "python",
   "nbconvert_exporter": "python",
   "pygments_lexer": "ipython3",
   "version": "3.11.5"
  }
 },
 "nbformat": 4,
 "nbformat_minor": 5
}
