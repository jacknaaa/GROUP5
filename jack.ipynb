{
 "cells": [
  {
   "cell_type": "markdown",
   "metadata": {},
   "source": [
    "#A/B Testing\n",
    "\n",
    "1. Design Base Layout\n",
    "2. Create Variations\n",
    "3. Define Test Plan\n",
    "4. Collect Data\n",
    "5. Run with best option\n",
    "6. Set up another A/B test"
   ]
  },
  {
   "cell_type": "markdown",
   "metadata": {},
   "source": [
    "About Database\n",
    "#Context\n",
    "- Marketing Promotion Campaign 57397 records with no duplicate data\n",
    "\n",
    "#Content\n",
    "- This dataset show customer's brief information\n",
    "- historical use of discount or BOGO(Buy One Get One) promotion\n",
    "- offer has been made, and the conversion result(buy or not)\n",
    "- The conversion average value = $25\n",
    "\n",
    "#Acknowledgements\n",
    "- This dataset is a fictional dataset for practicing purpose\n",
    "- This dataset get it from kaggle (link: https://www.kaggle.com/datasets/davinwijaya/customer-retention/data)\n",
    "\n",
    "#Inspiration\n",
    "- Use A/B testing model to Uplift Modelling to maximize marketing campaign and reduce campaign cost\n",
    "- Predict customer conversion rate\n",
    "- Create a visualization that shows comparison results. Information in various formats.\n",
    "\n"
   ]
  },
  {
   "cell_type": "code",
   "execution_count": 9,
   "metadata": {},
   "outputs": [
    {
     "name": "stdout",
     "output_type": "stream",
     "text": [
      "57397\n"
     ]
    }
   ],
   "source": [
    "import pandas as pd\n",
    "\n",
    "df = pd.read_csv('ori_data.csv')\n",
    "\n",
    "# Check for duplicate rows\n",
    "duplicate_rows = df[df.duplicated()]\n",
    "\n",
    "if duplicate_rows.empty:\n",
    "    print(\"No duplicate rows found.\")\n",
    "else:\n",
    "    # print(\"Duplicate rows:\")\n",
    "    # print(duplicate_rows)\n",
    "    df_no_duplicates = df.drop_duplicates()\n",
    "\n",
    "print(len(df_no_duplicates))\n",
    "# df_no_duplicates.to_csv(\"no_duplicate.csv\")\n"
   ]
  }
 ],
 "metadata": {
  "kernelspec": {
   "display_name": "Python 3",
   "language": "python",
   "name": "python3"
  },
  "language_info": {
   "codemirror_mode": {
    "name": "ipython",
    "version": 3
   },
   "file_extension": ".py",
   "mimetype": "text/x-python",
   "name": "python",
   "nbconvert_exporter": "python",
   "pygments_lexer": "ipython3",
   "version": "3.11.0"
  }
 },
 "nbformat": 4,
 "nbformat_minor": 2
}
